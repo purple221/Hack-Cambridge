{
  "nbformat": 4,
  "nbformat_minor": 0,
  "metadata": {
    "colab": {
      "name": "Untitled0.ipynb",
      "provenance": [],
      "include_colab_link": true
    },
    "kernelspec": {
      "name": "python3",
      "display_name": "Python 3"
    }
  },
  "cells": [
    {
      "cell_type": "markdown",
      "metadata": {
        "id": "view-in-github",
        "colab_type": "text"
      },
      "source": [
        "<a href=\"https://colab.research.google.com/github/purple221/Hack-Cambridge/blob/main/Untitled0.ipynb\" target=\"_parent\"><img src=\"https://colab.research.google.com/assets/colab-badge.svg\" alt=\"Open In Colab\"/></a>"
      ]
    },
    {
      "cell_type": "code",
      "metadata": {
        "id": "2arcvGenOpck"
      },
      "source": [
        "#Description: This progrma detects covid-19 based off of data."
      ],
      "execution_count": null,
      "outputs": []
    },
    {
      "cell_type": "code",
      "metadata": {
        "id": "eeoxoMgbPMPj"
      },
      "source": [
        "#import libraries\r\n",
        "import numpy as np\r\n",
        "import pandas as pd\r\n",
        "import matplotlib.pyplot as plt\r\n",
        "import seaborn as sns\r\n"
      ],
      "execution_count": null,
      "outputs": []
    },
    {
      "cell_type": "code",
      "metadata": {
        "colab": {
          "resources": {
            "http://localhost:8080/nbextensions/google.colab/files.js": {
              "data": "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",
              "ok": true,
              "headers": [
                [
                  "content-type",
                  "application/javascript"
                ]
              ],
              "status": 200,
              "status_text": ""
            }
          },
          "base_uri": "https://localhost:8080/",
          "height": 73
        },
        "id": "P1D2KAkWPaaA",
        "outputId": "7d0602da-35ec-4ebd-a6aa-63378a9a5e7d"
      },
      "source": [
        "#loading data\r\n",
        "from google.colab import files\r\n",
        "uploaded = files.upload()"
      ],
      "execution_count": null,
      "outputs": [
        {
          "output_type": "display_data",
          "data": {
            "text/html": [
              "\n",
              "     <input type=\"file\" id=\"files-2cc690a1-0e2a-40e5-808c-7599c0c0fb57\" name=\"files[]\" multiple disabled\n",
              "        style=\"border:none\" />\n",
              "     <output id=\"result-2cc690a1-0e2a-40e5-808c-7599c0c0fb57\">\n",
              "      Upload widget is only available when the cell has been executed in the\n",
              "      current browser session. Please rerun this cell to enable.\n",
              "      </output>\n",
              "      <script src=\"/nbextensions/google.colab/files.js\"></script> "
            ],
            "text/plain": [
              "<IPython.core.display.HTML object>"
            ]
          },
          "metadata": {
            "tags": []
          }
        },
        {
          "output_type": "stream",
          "text": [
            "Saving COVID19-data.csv to COVID19-data.csv\n"
          ],
          "name": "stdout"
        }
      ]
    },
    {
      "cell_type": "code",
      "metadata": {
        "colab": {
          "base_uri": "https://localhost:8080/",
          "height": 342
        },
        "id": "cGygCvKNVqcg",
        "outputId": "2c344912-cfed-458c-e644-9a67e947661f"
      },
      "source": [
        "#Store the data into a variable\r\n",
        "dataFrame = pd.read_csv('COVID19-data.csv')\r\n",
        "\r\n",
        "#Print the first seven rows of data\r\n",
        "dataFrame.head(7)"
      ],
      "execution_count": null,
      "outputs": [
        {
          "output_type": "stream",
          "text": [
            "/usr/local/lib/python3.6/dist-packages/IPython/core/interactiveshell.py:2718: DtypeWarning: Columns (30) have mixed types.Specify dtype option on import or set low_memory=False.\n",
            "  interactivity=interactivity, compiler=compiler, result=result)\n"
          ],
          "name": "stderr"
        },
        {
          "output_type": "execute_result",
          "data": {
            "text/html": [
              "<div>\n",
              "<style scoped>\n",
              "    .dataframe tbody tr th:only-of-type {\n",
              "        vertical-align: middle;\n",
              "    }\n",
              "\n",
              "    .dataframe tbody tr th {\n",
              "        vertical-align: top;\n",
              "    }\n",
              "\n",
              "    .dataframe thead th {\n",
              "        text-align: right;\n",
              "    }\n",
              "</style>\n",
              "<table border=\"1\" class=\"dataframe\">\n",
              "  <thead>\n",
              "    <tr style=\"text-align: right;\">\n",
              "      <th></th>\n",
              "      <th>Case identifier number</th>\n",
              "      <th>Region</th>\n",
              "      <th>Episode week</th>\n",
              "      <th>Episode week group</th>\n",
              "      <th>Episode year</th>\n",
              "      <th>Gender</th>\n",
              "      <th>Age group</th>\n",
              "      <th>Occupation</th>\n",
              "      <th>Asymptomatic</th>\n",
              "      <th>Onset week of symptoms</th>\n",
              "      <th>Onset year of symptoms</th>\n",
              "      <th>Symptom, cough</th>\n",
              "      <th>Symptom, fever</th>\n",
              "      <th>Symptom, chills</th>\n",
              "      <th>Symptom, sore throat</th>\n",
              "      <th>Symptom, runny nose</th>\n",
              "      <th>Symptom, shortness of breath</th>\n",
              "      <th>Symptom, nausea</th>\n",
              "      <th>Symptom, headache</th>\n",
              "      <th>Symptom, weakness</th>\n",
              "      <th>Symptom, pain</th>\n",
              "      <th>Symptom, irritability</th>\n",
              "      <th>Symptom, diarrhea</th>\n",
              "      <th>Symptom, other</th>\n",
              "      <th>Hospital status</th>\n",
              "      <th>Recovered</th>\n",
              "      <th>Recovery week</th>\n",
              "      <th>Recovery year</th>\n",
              "      <th>Death</th>\n",
              "      <th>Transmission</th>\n",
              "      <th>Unnamed: 30</th>\n",
              "    </tr>\n",
              "  </thead>\n",
              "  <tbody>\n",
              "    <tr>\n",
              "      <th>0</th>\n",
              "      <td>1</td>\n",
              "      <td>3</td>\n",
              "      <td>52</td>\n",
              "      <td>0</td>\n",
              "      <td>20</td>\n",
              "      <td>1</td>\n",
              "      <td>6</td>\n",
              "      <td>9</td>\n",
              "      <td>2</td>\n",
              "      <td>52</td>\n",
              "      <td>20</td>\n",
              "      <td>9</td>\n",
              "      <td>9</td>\n",
              "      <td>9</td>\n",
              "      <td>9</td>\n",
              "      <td>9</td>\n",
              "      <td>9</td>\n",
              "      <td>9</td>\n",
              "      <td>9</td>\n",
              "      <td>9</td>\n",
              "      <td>9</td>\n",
              "      <td>9</td>\n",
              "      <td>9</td>\n",
              "      <td>9</td>\n",
              "      <td>2</td>\n",
              "      <td>9</td>\n",
              "      <td>99</td>\n",
              "      <td>99</td>\n",
              "      <td>9</td>\n",
              "      <td>9</td>\n",
              "      <td>NaN</td>\n",
              "    </tr>\n",
              "    <tr>\n",
              "      <th>1</th>\n",
              "      <td>2</td>\n",
              "      <td>2</td>\n",
              "      <td>1</td>\n",
              "      <td>0</td>\n",
              "      <td>21</td>\n",
              "      <td>2</td>\n",
              "      <td>4</td>\n",
              "      <td>4</td>\n",
              "      <td>2</td>\n",
              "      <td>99</td>\n",
              "      <td>99</td>\n",
              "      <td>9</td>\n",
              "      <td>9</td>\n",
              "      <td>9</td>\n",
              "      <td>9</td>\n",
              "      <td>9</td>\n",
              "      <td>9</td>\n",
              "      <td>9</td>\n",
              "      <td>9</td>\n",
              "      <td>9</td>\n",
              "      <td>9</td>\n",
              "      <td>9</td>\n",
              "      <td>9</td>\n",
              "      <td>9</td>\n",
              "      <td>3</td>\n",
              "      <td>9</td>\n",
              "      <td>99</td>\n",
              "      <td>99</td>\n",
              "      <td>9</td>\n",
              "      <td>9</td>\n",
              "      <td>NaN</td>\n",
              "    </tr>\n",
              "    <tr>\n",
              "      <th>2</th>\n",
              "      <td>3</td>\n",
              "      <td>2</td>\n",
              "      <td>1</td>\n",
              "      <td>0</td>\n",
              "      <td>21</td>\n",
              "      <td>2</td>\n",
              "      <td>4</td>\n",
              "      <td>2</td>\n",
              "      <td>2</td>\n",
              "      <td>1</td>\n",
              "      <td>21</td>\n",
              "      <td>9</td>\n",
              "      <td>9</td>\n",
              "      <td>9</td>\n",
              "      <td>9</td>\n",
              "      <td>9</td>\n",
              "      <td>9</td>\n",
              "      <td>9</td>\n",
              "      <td>9</td>\n",
              "      <td>9</td>\n",
              "      <td>9</td>\n",
              "      <td>9</td>\n",
              "      <td>9</td>\n",
              "      <td>9</td>\n",
              "      <td>3</td>\n",
              "      <td>9</td>\n",
              "      <td>99</td>\n",
              "      <td>99</td>\n",
              "      <td>9</td>\n",
              "      <td>9</td>\n",
              "      <td>NaN</td>\n",
              "    </tr>\n",
              "    <tr>\n",
              "      <th>3</th>\n",
              "      <td>4</td>\n",
              "      <td>2</td>\n",
              "      <td>45</td>\n",
              "      <td>0</td>\n",
              "      <td>20</td>\n",
              "      <td>2</td>\n",
              "      <td>1</td>\n",
              "      <td>4</td>\n",
              "      <td>2</td>\n",
              "      <td>45</td>\n",
              "      <td>20</td>\n",
              "      <td>9</td>\n",
              "      <td>9</td>\n",
              "      <td>9</td>\n",
              "      <td>9</td>\n",
              "      <td>9</td>\n",
              "      <td>9</td>\n",
              "      <td>9</td>\n",
              "      <td>9</td>\n",
              "      <td>9</td>\n",
              "      <td>9</td>\n",
              "      <td>9</td>\n",
              "      <td>9</td>\n",
              "      <td>1</td>\n",
              "      <td>3</td>\n",
              "      <td>1</td>\n",
              "      <td>46</td>\n",
              "      <td>20</td>\n",
              "      <td>2</td>\n",
              "      <td>9</td>\n",
              "      <td>NaN</td>\n",
              "    </tr>\n",
              "    <tr>\n",
              "      <th>4</th>\n",
              "      <td>5</td>\n",
              "      <td>4</td>\n",
              "      <td>52</td>\n",
              "      <td>0</td>\n",
              "      <td>20</td>\n",
              "      <td>2</td>\n",
              "      <td>1</td>\n",
              "      <td>4</td>\n",
              "      <td>9</td>\n",
              "      <td>99</td>\n",
              "      <td>99</td>\n",
              "      <td>9</td>\n",
              "      <td>9</td>\n",
              "      <td>9</td>\n",
              "      <td>9</td>\n",
              "      <td>9</td>\n",
              "      <td>9</td>\n",
              "      <td>9</td>\n",
              "      <td>9</td>\n",
              "      <td>9</td>\n",
              "      <td>9</td>\n",
              "      <td>9</td>\n",
              "      <td>9</td>\n",
              "      <td>9</td>\n",
              "      <td>3</td>\n",
              "      <td>1</td>\n",
              "      <td>99</td>\n",
              "      <td>99</td>\n",
              "      <td>2</td>\n",
              "      <td>1</td>\n",
              "      <td>NaN</td>\n",
              "    </tr>\n",
              "    <tr>\n",
              "      <th>5</th>\n",
              "      <td>6</td>\n",
              "      <td>2</td>\n",
              "      <td>50</td>\n",
              "      <td>0</td>\n",
              "      <td>20</td>\n",
              "      <td>1</td>\n",
              "      <td>5</td>\n",
              "      <td>4</td>\n",
              "      <td>2</td>\n",
              "      <td>50</td>\n",
              "      <td>20</td>\n",
              "      <td>9</td>\n",
              "      <td>9</td>\n",
              "      <td>9</td>\n",
              "      <td>9</td>\n",
              "      <td>9</td>\n",
              "      <td>9</td>\n",
              "      <td>9</td>\n",
              "      <td>9</td>\n",
              "      <td>9</td>\n",
              "      <td>9</td>\n",
              "      <td>9</td>\n",
              "      <td>9</td>\n",
              "      <td>9</td>\n",
              "      <td>3</td>\n",
              "      <td>1</td>\n",
              "      <td>51</td>\n",
              "      <td>20</td>\n",
              "      <td>2</td>\n",
              "      <td>9</td>\n",
              "      <td>NaN</td>\n",
              "    </tr>\n",
              "    <tr>\n",
              "      <th>6</th>\n",
              "      <td>7</td>\n",
              "      <td>3</td>\n",
              "      <td>42</td>\n",
              "      <td>0</td>\n",
              "      <td>20</td>\n",
              "      <td>2</td>\n",
              "      <td>1</td>\n",
              "      <td>9</td>\n",
              "      <td>2</td>\n",
              "      <td>42</td>\n",
              "      <td>20</td>\n",
              "      <td>9</td>\n",
              "      <td>9</td>\n",
              "      <td>9</td>\n",
              "      <td>9</td>\n",
              "      <td>9</td>\n",
              "      <td>9</td>\n",
              "      <td>9</td>\n",
              "      <td>9</td>\n",
              "      <td>9</td>\n",
              "      <td>9</td>\n",
              "      <td>9</td>\n",
              "      <td>9</td>\n",
              "      <td>9</td>\n",
              "      <td>9</td>\n",
              "      <td>1</td>\n",
              "      <td>99</td>\n",
              "      <td>99</td>\n",
              "      <td>2</td>\n",
              "      <td>1</td>\n",
              "      <td>NaN</td>\n",
              "    </tr>\n",
              "  </tbody>\n",
              "</table>\n",
              "</div>"
            ],
            "text/plain": [
              "   Case identifier number  Region  ...  Transmission  Unnamed: 30\n",
              "0                       1       3  ...             9          NaN\n",
              "1                       2       2  ...             9          NaN\n",
              "2                       3       2  ...             9          NaN\n",
              "3                       4       2  ...             9          NaN\n",
              "4                       5       4  ...             1          NaN\n",
              "5                       6       2  ...             9          NaN\n",
              "6                       7       3  ...             1          NaN\n",
              "\n",
              "[7 rows x 31 columns]"
            ]
          },
          "metadata": {
            "tags": []
          },
          "execution_count": 19
        }
      ]
    },
    {
      "cell_type": "code",
      "metadata": {
        "colab": {
          "base_uri": "https://localhost:8080/"
        },
        "id": "AoG3K-QMkX0_",
        "outputId": "2cc81608-bb6f-4176-db02-d9963a1dbf4f"
      },
      "source": [
        "#Get the shape of the data\r\n",
        "dataFrame.shape"
      ],
      "execution_count": null,
      "outputs": [
        {
          "output_type": "execute_result",
          "data": {
            "text/plain": [
              "(666237, 31)"
            ]
          },
          "metadata": {
            "tags": []
          },
          "execution_count": 20
        }
      ]
    },
    {
      "cell_type": "markdown",
      "metadata": {
        "id": "fJ0ObedI3m_D"
      },
      "source": [
        ""
      ]
    },
    {
      "cell_type": "code",
      "metadata": {
        "colab": {
          "base_uri": "https://localhost:8080/",
          "height": 350
        },
        "id": "g53pHue33Ui5",
        "outputId": "15df0e1e-b77f-454c-f46f-0d80a5d16fba"
      },
      "source": [
        "#Visualize the count\r\n",
        "sns.countplot(dataFrame['Gender'])"
      ],
      "execution_count": null,
      "outputs": [
        {
          "output_type": "stream",
          "text": [
            "/usr/local/lib/python3.6/dist-packages/seaborn/_decorators.py:43: FutureWarning: Pass the following variable as a keyword arg: x. From version 0.12, the only valid positional argument will be `data`, and passing other arguments without an explicit keyword will result in an error or misinterpretation.\n",
            "  FutureWarning\n"
          ],
          "name": "stderr"
        },
        {
          "output_type": "execute_result",
          "data": {
            "text/plain": [
              "<matplotlib.axes._subplots.AxesSubplot at 0x7f068fb87780>"
            ]
          },
          "metadata": {
            "tags": []
          },
          "execution_count": 24
        },
        {
          "output_type": "display_data",
          "data": {
            "image/png": "[encoded data removed]",
            "text/plain": [
              "<Figure size 432x288 with 1 Axes>"
            ]
          },
          "metadata": {
            "tags": [],
            "needs_background": "light"
          }
        }
      ]
    },
    {
      "cell_type": "code",
      "metadata": {
        "colab": {
          "base_uri": "https://localhost:8080/",
          "height": 350
        },
        "id": "n6OQgybv4RHV",
        "outputId": "85bbad82-6c60-4042-82a5-828f2eea774d"
      },
      "source": [
        "sns.countplot(dataFrame['Age group'])"
      ],
      "execution_count": null,
      "outputs": [
        {
          "output_type": "stream",
          "text": [
            "/usr/local/lib/python3.6/dist-packages/seaborn/_decorators.py:43: FutureWarning: Pass the following variable as a keyword arg: x. From version 0.12, the only valid positional argument will be `data`, and passing other arguments without an explicit keyword will result in an error or misinterpretation.\n",
            "  FutureWarning\n"
          ],
          "name": "stderr"
        },
        {
          "output_type": "execute_result",
          "data": {
            "text/plain": [
              "<matplotlib.axes._subplots.AxesSubplot at 0x7f0687e13ba8>"
            ]
          },
          "metadata": {
            "tags": []
          },
          "execution_count": 26
        },
        {
          "output_type": "display_data",
          "data": {
            "image/png": "[encoded data removed]",
            "text/plain": [
              "<Figure size 432x288 with 1 Axes>"
            ]
          },
          "metadata": {
            "tags": [],
            "needs_background": "light"
          }
        }
      ]
    },
    {
      "cell_type": "code",
      "metadata": {
        "colab": {
          "base_uri": "https://localhost:8080/",
          "height": 338
        },
        "id": "Nikudnj7keop",
        "outputId": "a1d108f0-cf01-4650-ad9a-9102bcb87afd"
      },
      "source": [
        "#Viewing some basic statistic\r\n",
        "dataFrame.describe()"
      ],
      "execution_count": null,
      "outputs": [
        {
          "output_type": "execute_result",
          "data": {
            "text/html": [
              "<div>\n",
              "<style scoped>\n",
              "    .dataframe tbody tr th:only-of-type {\n",
              "        vertical-align: middle;\n",
              "    }\n",
              "\n",
              "    .dataframe tbody tr th {\n",
              "        vertical-align: top;\n",
              "    }\n",
              "\n",
              "    .dataframe thead th {\n",
              "        text-align: right;\n",
              "    }\n",
              "</style>\n",
              "<table border=\"1\" class=\"dataframe\">\n",
              "  <thead>\n",
              "    <tr style=\"text-align: right;\">\n",
              "      <th></th>\n",
              "      <th>Case identifier number</th>\n",
              "      <th>Region</th>\n",
              "      <th>Episode week</th>\n",
              "      <th>Episode week group</th>\n",
              "      <th>Episode year</th>\n",
              "      <th>Gender</th>\n",
              "      <th>Age group</th>\n",
              "      <th>Occupation</th>\n",
              "      <th>Asymptomatic</th>\n",
              "      <th>Onset week of symptoms</th>\n",
              "      <th>Onset year of symptoms</th>\n",
              "      <th>Symptom, cough</th>\n",
              "      <th>Symptom, fever</th>\n",
              "      <th>Symptom, chills</th>\n",
              "      <th>Symptom, sore throat</th>\n",
              "      <th>Symptom, runny nose</th>\n",
              "      <th>Symptom, shortness of breath</th>\n",
              "      <th>Symptom, nausea</th>\n",
              "      <th>Symptom, headache</th>\n",
              "      <th>Symptom, weakness</th>\n",
              "      <th>Symptom, pain</th>\n",
              "      <th>Symptom, irritability</th>\n",
              "      <th>Symptom, diarrhea</th>\n",
              "      <th>Symptom, other</th>\n",
              "      <th>Hospital status</th>\n",
              "      <th>Recovered</th>\n",
              "      <th>Recovery week</th>\n",
              "      <th>Recovery year</th>\n",
              "      <th>Death</th>\n",
              "      <th>Transmission</th>\n",
              "    </tr>\n",
              "  </thead>\n",
              "  <tbody>\n",
              "    <tr>\n",
              "      <th>count</th>\n",
              "      <td>666237.000000</td>\n",
              "      <td>666237.000000</td>\n",
              "      <td>666237.000000</td>\n",
              "      <td>666237.000000</td>\n",
              "      <td>666237.000000</td>\n",
              "      <td>666237.000000</td>\n",
              "      <td>666237.000000</td>\n",
              "      <td>666237.000000</td>\n",
              "      <td>666237.000000</td>\n",
              "      <td>666237.000000</td>\n",
              "      <td>666237.000000</td>\n",
              "      <td>666237.000000</td>\n",
              "      <td>666237.000000</td>\n",
              "      <td>666237.000000</td>\n",
              "      <td>666237.000000</td>\n",
              "      <td>666237.000000</td>\n",
              "      <td>666237.000000</td>\n",
              "      <td>666237.000000</td>\n",
              "      <td>666237.000000</td>\n",
              "      <td>666237.000000</td>\n",
              "      <td>666237.000000</td>\n",
              "      <td>666237.000000</td>\n",
              "      <td>666237.000000</td>\n",
              "      <td>666237.000000</td>\n",
              "      <td>666237.000000</td>\n",
              "      <td>666237.000000</td>\n",
              "      <td>666237.000000</td>\n",
              "      <td>666237.000000</td>\n",
              "      <td>666237.000000</td>\n",
              "      <td>666237.000000</td>\n",
              "    </tr>\n",
              "    <tr>\n",
              "      <th>mean</th>\n",
              "      <td>333119.000000</td>\n",
              "      <td>3.065082</td>\n",
              "      <td>39.277676</td>\n",
              "      <td>0.000848</td>\n",
              "      <td>20.335687</td>\n",
              "      <td>1.533289</td>\n",
              "      <td>3.828603</td>\n",
              "      <td>4.805120</td>\n",
              "      <td>3.479197</td>\n",
              "      <td>54.771730</td>\n",
              "      <td>41.554178</td>\n",
              "      <td>7.919586</td>\n",
              "      <td>8.095673</td>\n",
              "      <td>8.598569</td>\n",
              "      <td>8.300935</td>\n",
              "      <td>8.457348</td>\n",
              "      <td>8.537681</td>\n",
              "      <td>8.729215</td>\n",
              "      <td>8.056610</td>\n",
              "      <td>8.517636</td>\n",
              "      <td>8.408310</td>\n",
              "      <td>8.856515</td>\n",
              "      <td>8.676411</td>\n",
              "      <td>7.220989</td>\n",
              "      <td>4.568703</td>\n",
              "      <td>1.775967</td>\n",
              "      <td>75.487852</td>\n",
              "      <td>67.034288</td>\n",
              "      <td>2.630649</td>\n",
              "      <td>3.857995</td>\n",
              "    </tr>\n",
              "    <tr>\n",
              "      <th>std</th>\n",
              "      <td>192326.199983</td>\n",
              "      <td>0.960657</td>\n",
              "      <td>16.593769</td>\n",
              "      <td>0.054632</td>\n",
              "      <td>4.617349</td>\n",
              "      <td>0.609806</td>\n",
              "      <td>3.395460</td>\n",
              "      <td>2.454336</td>\n",
              "      <td>2.961141</td>\n",
              "      <td>29.865739</td>\n",
              "      <td>35.143138</td>\n",
              "      <td>2.722843</td>\n",
              "      <td>2.515011</td>\n",
              "      <td>1.736836</td>\n",
              "      <td>2.238777</td>\n",
              "      <td>2.002396</td>\n",
              "      <td>1.835430</td>\n",
              "      <td>1.427401</td>\n",
              "      <td>2.565428</td>\n",
              "      <td>1.897065</td>\n",
              "      <td>2.084486</td>\n",
              "      <td>1.036073</td>\n",
              "      <td>1.558384</td>\n",
              "      <td>3.288426</td>\n",
              "      <td>2.726910</td>\n",
              "      <td>2.329210</td>\n",
              "      <td>29.483791</td>\n",
              "      <td>38.774581</td>\n",
              "      <td>2.054996</td>\n",
              "      <td>3.825749</td>\n",
              "    </tr>\n",
              "    <tr>\n",
              "      <th>min</th>\n",
              "      <td>1.000000</td>\n",
              "      <td>1.000000</td>\n",
              "      <td>1.000000</td>\n",
              "      <td>0.000000</td>\n",
              "      <td>20.000000</td>\n",
              "      <td>1.000000</td>\n",
              "      <td>1.000000</td>\n",
              "      <td>1.000000</td>\n",
              "      <td>1.000000</td>\n",
              "      <td>1.000000</td>\n",
              "      <td>20.000000</td>\n",
              "      <td>1.000000</td>\n",
              "      <td>1.000000</td>\n",
              "      <td>1.000000</td>\n",
              "      <td>1.000000</td>\n",
              "      <td>1.000000</td>\n",
              "      <td>1.000000</td>\n",
              "      <td>1.000000</td>\n",
              "      <td>1.000000</td>\n",
              "      <td>1.000000</td>\n",
              "      <td>1.000000</td>\n",
              "      <td>1.000000</td>\n",
              "      <td>1.000000</td>\n",
              "      <td>1.000000</td>\n",
              "      <td>1.000000</td>\n",
              "      <td>1.000000</td>\n",
              "      <td>1.000000</td>\n",
              "      <td>20.000000</td>\n",
              "      <td>1.000000</td>\n",
              "      <td>1.000000</td>\n",
              "    </tr>\n",
              "    <tr>\n",
              "      <th>25%</th>\n",
              "      <td>166560.000000</td>\n",
              "      <td>2.000000</td>\n",
              "      <td>35.000000</td>\n",
              "      <td>0.000000</td>\n",
              "      <td>20.000000</td>\n",
              "      <td>1.000000</td>\n",
              "      <td>2.000000</td>\n",
              "      <td>4.000000</td>\n",
              "      <td>2.000000</td>\n",
              "      <td>40.000000</td>\n",
              "      <td>20.000000</td>\n",
              "      <td>9.000000</td>\n",
              "      <td>9.000000</td>\n",
              "      <td>9.000000</td>\n",
              "      <td>9.000000</td>\n",
              "      <td>9.000000</td>\n",
              "      <td>9.000000</td>\n",
              "      <td>9.000000</td>\n",
              "      <td>9.000000</td>\n",
              "      <td>9.000000</td>\n",
              "      <td>9.000000</td>\n",
              "      <td>9.000000</td>\n",
              "      <td>9.000000</td>\n",
              "      <td>9.000000</td>\n",
              "      <td>3.000000</td>\n",
              "      <td>1.000000</td>\n",
              "      <td>48.000000</td>\n",
              "      <td>20.000000</td>\n",
              "      <td>2.000000</td>\n",
              "      <td>1.000000</td>\n",
              "    </tr>\n",
              "    <tr>\n",
              "      <th>50%</th>\n",
              "      <td>333119.000000</td>\n",
              "      <td>3.000000</td>\n",
              "      <td>45.000000</td>\n",
              "      <td>0.000000</td>\n",
              "      <td>20.000000</td>\n",
              "      <td>2.000000</td>\n",
              "      <td>3.000000</td>\n",
              "      <td>4.000000</td>\n",
              "      <td>2.000000</td>\n",
              "      <td>48.000000</td>\n",
              "      <td>20.000000</td>\n",
              "      <td>9.000000</td>\n",
              "      <td>9.000000</td>\n",
              "      <td>9.000000</td>\n",
              "      <td>9.000000</td>\n",
              "      <td>9.000000</td>\n",
              "      <td>9.000000</td>\n",
              "      <td>9.000000</td>\n",
              "      <td>9.000000</td>\n",
              "      <td>9.000000</td>\n",
              "      <td>9.000000</td>\n",
              "      <td>9.000000</td>\n",
              "      <td>9.000000</td>\n",
              "      <td>9.000000</td>\n",
              "      <td>3.000000</td>\n",
              "      <td>1.000000</td>\n",
              "      <td>99.000000</td>\n",
              "      <td>99.000000</td>\n",
              "      <td>2.000000</td>\n",
              "      <td>1.000000</td>\n",
              "    </tr>\n",
              "    <tr>\n",
              "      <th>75%</th>\n",
              "      <td>499678.000000</td>\n",
              "      <td>4.000000</td>\n",
              "      <td>49.000000</td>\n",
              "      <td>0.000000</td>\n",
              "      <td>20.000000</td>\n",
              "      <td>2.000000</td>\n",
              "      <td>5.000000</td>\n",
              "      <td>4.000000</td>\n",
              "      <td>2.000000</td>\n",
              "      <td>99.000000</td>\n",
              "      <td>99.000000</td>\n",
              "      <td>9.000000</td>\n",
              "      <td>9.000000</td>\n",
              "      <td>9.000000</td>\n",
              "      <td>9.000000</td>\n",
              "      <td>9.000000</td>\n",
              "      <td>9.000000</td>\n",
              "      <td>9.000000</td>\n",
              "      <td>9.000000</td>\n",
              "      <td>9.000000</td>\n",
              "      <td>9.000000</td>\n",
              "      <td>9.000000</td>\n",
              "      <td>9.000000</td>\n",
              "      <td>9.000000</td>\n",
              "      <td>9.000000</td>\n",
              "      <td>1.000000</td>\n",
              "      <td>99.000000</td>\n",
              "      <td>99.000000</td>\n",
              "      <td>2.000000</td>\n",
              "      <td>9.000000</td>\n",
              "    </tr>\n",
              "    <tr>\n",
              "      <th>max</th>\n",
              "      <td>666237.000000</td>\n",
              "      <td>5.000000</td>\n",
              "      <td>99.000000</td>\n",
              "      <td>5.000000</td>\n",
              "      <td>99.000000</td>\n",
              "      <td>9.000000</td>\n",
              "      <td>99.000000</td>\n",
              "      <td>9.000000</td>\n",
              "      <td>9.000000</td>\n",
              "      <td>99.000000</td>\n",
              "      <td>99.000000</td>\n",
              "      <td>9.000000</td>\n",
              "      <td>9.000000</td>\n",
              "      <td>9.000000</td>\n",
              "      <td>9.000000</td>\n",
              "      <td>9.000000</td>\n",
              "      <td>9.000000</td>\n",
              "      <td>9.000000</td>\n",
              "      <td>9.000000</td>\n",
              "      <td>9.000000</td>\n",
              "      <td>9.000000</td>\n",
              "      <td>9.000000</td>\n",
              "      <td>9.000000</td>\n",
              "      <td>9.000000</td>\n",
              "      <td>9.000000</td>\n",
              "      <td>9.000000</td>\n",
              "      <td>99.000000</td>\n",
              "      <td>99.000000</td>\n",
              "      <td>9.000000</td>\n",
              "      <td>9.000000</td>\n",
              "    </tr>\n",
              "  </tbody>\n",
              "</table>\n",
              "</div>"
            ],
            "text/plain": [
              "       Case identifier number         Region  ...          Death   Transmission\n",
              "count           666237.000000  666237.000000  ...  666237.000000  666237.000000\n",
              "mean            333119.000000       3.065082  ...       2.630649       3.857995\n",
              "std             192326.199983       0.960657  ...       2.054996       3.825749\n",
              "min                  1.000000       1.000000  ...       1.000000       1.000000\n",
              "25%             166560.000000       2.000000  ...       2.000000       1.000000\n",
              "50%             333119.000000       3.000000  ...       2.000000       1.000000\n",
              "75%             499678.000000       4.000000  ...       2.000000       9.000000\n",
              "max             666237.000000       5.000000  ...       9.000000       9.000000\n",
              "\n",
              "[8 rows x 30 columns]"
            ]
          },
          "metadata": {
            "tags": []
          },
          "execution_count": 22
        }
      ]
    },
    {
      "cell_type": "code",
      "metadata": {
        "id": "sdl_38Gx5kQy"
      },
      "source": [
        ""
      ],
      "execution_count": null,
      "outputs": []
    },
    {
      "cell_type": "code",
      "metadata": {
        "id": "w9lHyttB6Mk8"
      },
      "source": [
        "#remove the columns that do not contribute\r\n",
        "dataFrame = dataFrame.drop('Case identifier number', axis=1)"
      ],
      "execution_count": null,
      "outputs": []
    },
    {
      "cell_type": "code",
      "metadata": {
        "id": "TZi2CVcQ5uo3"
      },
      "source": [
        "dataFrame = dataFrame.drop('Region', axis=1)"
      ],
      "execution_count": null,
      "outputs": []
    },
    {
      "cell_type": "code",
      "metadata": {
        "id": "xitji6w68FlP"
      },
      "source": [
        "dataFrame = dataFrame.drop('Onset year of symptoms', axis=1)"
      ],
      "execution_count": null,
      "outputs": []
    },
    {
      "cell_type": "code",
      "metadata": {
        "id": "Nyy8JTjf7H4i"
      },
      "source": [
        "dataFrame = dataFrame.drop('Episode week', axis=1)"
      ],
      "execution_count": null,
      "outputs": []
    },
    {
      "cell_type": "code",
      "metadata": {
        "id": "G8fRf2Nl7Oxo"
      },
      "source": [
        "dataFrame = dataFrame.drop('Episode week group', axis=1)"
      ],
      "execution_count": null,
      "outputs": []
    },
    {
      "cell_type": "code",
      "metadata": {
        "id": "A28aq6337O4P"
      },
      "source": [
        "dataFrame = dataFrame.drop('Episode year', axis=1)"
      ],
      "execution_count": null,
      "outputs": []
    },
    {
      "cell_type": "code",
      "metadata": {
        "id": "gNdqMGUi7O6a"
      },
      "source": [
        "dataFrame = dataFrame.drop('Gender', axis=1)"
      ],
      "execution_count": null,
      "outputs": []
    },
    {
      "cell_type": "code",
      "metadata": {
        "id": "Bs85fMFU7O8o"
      },
      "source": [
        "dataFrame = dataFrame.drop('Occupation', axis=1)"
      ],
      "execution_count": null,
      "outputs": []
    },
    {
      "cell_type": "code",
      "metadata": {
        "id": "L4v17Y8z7O-x"
      },
      "source": [
        "dataFrame = dataFrame.drop('Onset week of symptoms', axis=1)"
      ],
      "execution_count": null,
      "outputs": []
    },
    {
      "cell_type": "code",
      "metadata": {
        "id": "IxZmq9Es8YLb"
      },
      "source": [
        "dataFrame = dataFrame.drop('Asymptomatic', axis=1)"
      ],
      "execution_count": null,
      "outputs": []
    },
    {
      "cell_type": "code",
      "metadata": {
        "id": "tpzymOrK8QP1"
      },
      "source": [
        "dataFrame = dataFrame.drop('Age group', axis=1)"
      ],
      "execution_count": null,
      "outputs": []
    },
    {
      "cell_type": "code",
      "metadata": {
        "id": "w9K-amm07PBI"
      },
      "source": [
        "dataFrame = dataFrame.drop('Hospital status', axis=1)"
      ],
      "execution_count": null,
      "outputs": []
    },
    {
      "cell_type": "code",
      "metadata": {
        "id": "jatTuAM77PDI"
      },
      "source": [
        "dataFrame = dataFrame.drop('Recovered', axis=1)"
      ],
      "execution_count": null,
      "outputs": []
    },
    {
      "cell_type": "code",
      "metadata": {
        "id": "6zAYKv4K7pA3"
      },
      "source": [
        "dataFrame = dataFrame.drop('Recovery week', axis=1)"
      ],
      "execution_count": null,
      "outputs": []
    },
    {
      "cell_type": "code",
      "metadata": {
        "id": "Ue6EDX-G7pMe"
      },
      "source": [
        "dataFrame = dataFrame.drop('Recovery year', axis=1)"
      ],
      "execution_count": null,
      "outputs": []
    },
    {
      "cell_type": "code",
      "metadata": {
        "id": "ER4hidw_7pN4"
      },
      "source": [
        "dataFrame = dataFrame.drop('Death', axis=1)"
      ],
      "execution_count": null,
      "outputs": []
    },
    {
      "cell_type": "code",
      "metadata": {
        "id": "xlODr77k7pR4"
      },
      "source": [
        "dataFrame = dataFrame.drop('Transmission', axis=1)"
      ],
      "execution_count": null,
      "outputs": []
    },
    {
      "cell_type": "code",
      "metadata": {
        "colab": {
          "base_uri": "https://localhost:8080/",
          "height": 826
        },
        "id": "3CnewGYq5bqq",
        "outputId": "40042ef3-eb3a-4b01-a468-7bf6ce5451b0"
      },
      "source": [
        "#Get the correlation of the columns\r\n",
        "dataFrame.corr()"
      ],
      "execution_count": null,
      "outputs": [
        {
          "output_type": "execute_result",
          "data": {
            "text/html": [
              "<div>\n",
              "<style scoped>\n",
              "    .dataframe tbody tr th:only-of-type {\n",
              "        vertical-align: middle;\n",
              "    }\n",
              "\n",
              "    .dataframe tbody tr th {\n",
              "        vertical-align: top;\n",
              "    }\n",
              "\n",
              "    .dataframe thead th {\n",
              "        text-align: right;\n",
              "    }\n",
              "</style>\n",
              "<table border=\"1\" class=\"dataframe\">\n",
              "  <thead>\n",
              "    <tr style=\"text-align: right;\">\n",
              "      <th></th>\n",
              "      <th>Age group</th>\n",
              "      <th>Asymptomatic</th>\n",
              "      <th>Onset year of symptoms</th>\n",
              "      <th>Symptom, cough</th>\n",
              "      <th>Symptom, fever</th>\n",
              "      <th>Symptom, chills</th>\n",
              "      <th>Symptom, sore throat</th>\n",
              "      <th>Symptom, runny nose</th>\n",
              "      <th>Symptom, shortness of breath</th>\n",
              "      <th>Symptom, nausea</th>\n",
              "      <th>Symptom, headache</th>\n",
              "      <th>Symptom, weakness</th>\n",
              "      <th>Symptom, pain</th>\n",
              "      <th>Symptom, irritability</th>\n",
              "      <th>Symptom, diarrhea</th>\n",
              "      <th>Symptom, other</th>\n",
              "    </tr>\n",
              "  </thead>\n",
              "  <tbody>\n",
              "    <tr>\n",
              "      <th>Age group</th>\n",
              "      <td>1.000000</td>\n",
              "      <td>-0.028966</td>\n",
              "      <td>0.040003</td>\n",
              "      <td>-0.039977</td>\n",
              "      <td>-0.031260</td>\n",
              "      <td>-0.014765</td>\n",
              "      <td>0.008941</td>\n",
              "      <td>0.011306</td>\n",
              "      <td>-0.046471</td>\n",
              "      <td>-0.018517</td>\n",
              "      <td>0.012026</td>\n",
              "      <td>-0.027325</td>\n",
              "      <td>-0.013472</td>\n",
              "      <td>-0.028546</td>\n",
              "      <td>-0.027239</td>\n",
              "      <td>-0.012151</td>\n",
              "    </tr>\n",
              "    <tr>\n",
              "      <th>Asymptomatic</th>\n",
              "      <td>-0.028966</td>\n",
              "      <td>1.000000</td>\n",
              "      <td>0.298172</td>\n",
              "      <td>0.199162</td>\n",
              "      <td>0.180675</td>\n",
              "      <td>0.114917</td>\n",
              "      <td>0.157202</td>\n",
              "      <td>0.134867</td>\n",
              "      <td>0.127137</td>\n",
              "      <td>0.094036</td>\n",
              "      <td>0.184715</td>\n",
              "      <td>0.126613</td>\n",
              "      <td>0.141357</td>\n",
              "      <td>0.068294</td>\n",
              "      <td>0.102979</td>\n",
              "      <td>0.270604</td>\n",
              "    </tr>\n",
              "    <tr>\n",
              "      <th>Onset year of symptoms</th>\n",
              "      <td>0.040003</td>\n",
              "      <td>0.298172</td>\n",
              "      <td>1.000000</td>\n",
              "      <td>0.186381</td>\n",
              "      <td>0.160169</td>\n",
              "      <td>0.118976</td>\n",
              "      <td>0.145842</td>\n",
              "      <td>0.122145</td>\n",
              "      <td>0.107697</td>\n",
              "      <td>0.083041</td>\n",
              "      <td>0.174458</td>\n",
              "      <td>0.105114</td>\n",
              "      <td>0.131153</td>\n",
              "      <td>0.050806</td>\n",
              "      <td>0.090739</td>\n",
              "      <td>0.175403</td>\n",
              "    </tr>\n",
              "    <tr>\n",
              "      <th>Symptom, cough</th>\n",
              "      <td>-0.039977</td>\n",
              "      <td>0.199162</td>\n",
              "      <td>0.186381</td>\n",
              "      <td>1.000000</td>\n",
              "      <td>0.512400</td>\n",
              "      <td>0.410465</td>\n",
              "      <td>0.504722</td>\n",
              "      <td>0.400422</td>\n",
              "      <td>0.463255</td>\n",
              "      <td>0.322926</td>\n",
              "      <td>0.535213</td>\n",
              "      <td>0.401317</td>\n",
              "      <td>0.442694</td>\n",
              "      <td>0.258571</td>\n",
              "      <td>0.345279</td>\n",
              "      <td>0.307639</td>\n",
              "    </tr>\n",
              "    <tr>\n",
              "      <th>Symptom, fever</th>\n",
              "      <td>-0.031260</td>\n",
              "      <td>0.180675</td>\n",
              "      <td>0.160169</td>\n",
              "      <td>0.512400</td>\n",
              "      <td>1.000000</td>\n",
              "      <td>0.437871</td>\n",
              "      <td>0.411111</td>\n",
              "      <td>0.302199</td>\n",
              "      <td>0.398421</td>\n",
              "      <td>0.308762</td>\n",
              "      <td>0.484215</td>\n",
              "      <td>0.341365</td>\n",
              "      <td>0.408590</td>\n",
              "      <td>0.250848</td>\n",
              "      <td>0.315647</td>\n",
              "      <td>0.270579</td>\n",
              "    </tr>\n",
              "    <tr>\n",
              "      <th>Symptom, chills</th>\n",
              "      <td>-0.014765</td>\n",
              "      <td>0.114917</td>\n",
              "      <td>0.118976</td>\n",
              "      <td>0.410465</td>\n",
              "      <td>0.437871</td>\n",
              "      <td>1.000000</td>\n",
              "      <td>0.363588</td>\n",
              "      <td>0.404323</td>\n",
              "      <td>0.348240</td>\n",
              "      <td>0.425933</td>\n",
              "      <td>0.458835</td>\n",
              "      <td>0.558209</td>\n",
              "      <td>0.548587</td>\n",
              "      <td>0.358750</td>\n",
              "      <td>0.430032</td>\n",
              "      <td>0.178631</td>\n",
              "    </tr>\n",
              "    <tr>\n",
              "      <th>Symptom, sore throat</th>\n",
              "      <td>0.008941</td>\n",
              "      <td>0.157202</td>\n",
              "      <td>0.145842</td>\n",
              "      <td>0.504722</td>\n",
              "      <td>0.411111</td>\n",
              "      <td>0.363588</td>\n",
              "      <td>1.000000</td>\n",
              "      <td>0.383012</td>\n",
              "      <td>0.410953</td>\n",
              "      <td>0.310033</td>\n",
              "      <td>0.512253</td>\n",
              "      <td>0.364787</td>\n",
              "      <td>0.398565</td>\n",
              "      <td>0.263754</td>\n",
              "      <td>0.315535</td>\n",
              "      <td>0.253166</td>\n",
              "    </tr>\n",
              "    <tr>\n",
              "      <th>Symptom, runny nose</th>\n",
              "      <td>0.011306</td>\n",
              "      <td>0.134867</td>\n",
              "      <td>0.122145</td>\n",
              "      <td>0.400422</td>\n",
              "      <td>0.302199</td>\n",
              "      <td>0.404323</td>\n",
              "      <td>0.383012</td>\n",
              "      <td>1.000000</td>\n",
              "      <td>0.283724</td>\n",
              "      <td>0.340973</td>\n",
              "      <td>0.422470</td>\n",
              "      <td>0.447380</td>\n",
              "      <td>0.432209</td>\n",
              "      <td>0.315053</td>\n",
              "      <td>0.353085</td>\n",
              "      <td>0.189815</td>\n",
              "    </tr>\n",
              "    <tr>\n",
              "      <th>Symptom, shortness of breath</th>\n",
              "      <td>-0.046471</td>\n",
              "      <td>0.127137</td>\n",
              "      <td>0.107697</td>\n",
              "      <td>0.463255</td>\n",
              "      <td>0.398421</td>\n",
              "      <td>0.348240</td>\n",
              "      <td>0.410953</td>\n",
              "      <td>0.283724</td>\n",
              "      <td>1.000000</td>\n",
              "      <td>0.340376</td>\n",
              "      <td>0.426441</td>\n",
              "      <td>0.352572</td>\n",
              "      <td>0.352470</td>\n",
              "      <td>0.324025</td>\n",
              "      <td>0.347443</td>\n",
              "      <td>0.200464</td>\n",
              "    </tr>\n",
              "    <tr>\n",
              "      <th>Symptom, nausea</th>\n",
              "      <td>-0.018517</td>\n",
              "      <td>0.094036</td>\n",
              "      <td>0.083041</td>\n",
              "      <td>0.322926</td>\n",
              "      <td>0.308762</td>\n",
              "      <td>0.425933</td>\n",
              "      <td>0.310033</td>\n",
              "      <td>0.340973</td>\n",
              "      <td>0.340376</td>\n",
              "      <td>1.000000</td>\n",
              "      <td>0.372132</td>\n",
              "      <td>0.410948</td>\n",
              "      <td>0.419908</td>\n",
              "      <td>0.402597</td>\n",
              "      <td>0.456449</td>\n",
              "      <td>0.155691</td>\n",
              "    </tr>\n",
              "    <tr>\n",
              "      <th>Symptom, headache</th>\n",
              "      <td>0.012026</td>\n",
              "      <td>0.184715</td>\n",
              "      <td>0.174458</td>\n",
              "      <td>0.535213</td>\n",
              "      <td>0.484215</td>\n",
              "      <td>0.458835</td>\n",
              "      <td>0.512253</td>\n",
              "      <td>0.422470</td>\n",
              "      <td>0.426441</td>\n",
              "      <td>0.372132</td>\n",
              "      <td>1.000000</td>\n",
              "      <td>0.458560</td>\n",
              "      <td>0.505035</td>\n",
              "      <td>0.275067</td>\n",
              "      <td>0.369885</td>\n",
              "      <td>0.292722</td>\n",
              "    </tr>\n",
              "    <tr>\n",
              "      <th>Symptom, weakness</th>\n",
              "      <td>-0.027325</td>\n",
              "      <td>0.126613</td>\n",
              "      <td>0.105114</td>\n",
              "      <td>0.401317</td>\n",
              "      <td>0.341365</td>\n",
              "      <td>0.558209</td>\n",
              "      <td>0.364787</td>\n",
              "      <td>0.447380</td>\n",
              "      <td>0.352572</td>\n",
              "      <td>0.410948</td>\n",
              "      <td>0.458560</td>\n",
              "      <td>1.000000</td>\n",
              "      <td>0.541024</td>\n",
              "      <td>0.384782</td>\n",
              "      <td>0.423420</td>\n",
              "      <td>0.125766</td>\n",
              "    </tr>\n",
              "    <tr>\n",
              "      <th>Symptom, pain</th>\n",
              "      <td>-0.013472</td>\n",
              "      <td>0.141357</td>\n",
              "      <td>0.131153</td>\n",
              "      <td>0.442694</td>\n",
              "      <td>0.408590</td>\n",
              "      <td>0.548587</td>\n",
              "      <td>0.398565</td>\n",
              "      <td>0.432209</td>\n",
              "      <td>0.352470</td>\n",
              "      <td>0.419908</td>\n",
              "      <td>0.505035</td>\n",
              "      <td>0.541024</td>\n",
              "      <td>1.000000</td>\n",
              "      <td>0.348599</td>\n",
              "      <td>0.428671</td>\n",
              "      <td>0.214509</td>\n",
              "    </tr>\n",
              "    <tr>\n",
              "      <th>Symptom, irritability</th>\n",
              "      <td>-0.028546</td>\n",
              "      <td>0.068294</td>\n",
              "      <td>0.050806</td>\n",
              "      <td>0.258571</td>\n",
              "      <td>0.250848</td>\n",
              "      <td>0.358750</td>\n",
              "      <td>0.263754</td>\n",
              "      <td>0.315053</td>\n",
              "      <td>0.324025</td>\n",
              "      <td>0.402597</td>\n",
              "      <td>0.275067</td>\n",
              "      <td>0.384782</td>\n",
              "      <td>0.348599</td>\n",
              "      <td>1.000000</td>\n",
              "      <td>0.375565</td>\n",
              "      <td>0.123412</td>\n",
              "    </tr>\n",
              "    <tr>\n",
              "      <th>Symptom, diarrhea</th>\n",
              "      <td>-0.027239</td>\n",
              "      <td>0.102979</td>\n",
              "      <td>0.090739</td>\n",
              "      <td>0.345279</td>\n",
              "      <td>0.315647</td>\n",
              "      <td>0.430032</td>\n",
              "      <td>0.315535</td>\n",
              "      <td>0.353085</td>\n",
              "      <td>0.347443</td>\n",
              "      <td>0.456449</td>\n",
              "      <td>0.369885</td>\n",
              "      <td>0.423420</td>\n",
              "      <td>0.428671</td>\n",
              "      <td>0.375565</td>\n",
              "      <td>1.000000</td>\n",
              "      <td>0.153183</td>\n",
              "    </tr>\n",
              "    <tr>\n",
              "      <th>Symptom, other</th>\n",
              "      <td>-0.012151</td>\n",
              "      <td>0.270604</td>\n",
              "      <td>0.175403</td>\n",
              "      <td>0.307639</td>\n",
              "      <td>0.270579</td>\n",
              "      <td>0.178631</td>\n",
              "      <td>0.253166</td>\n",
              "      <td>0.189815</td>\n",
              "      <td>0.200464</td>\n",
              "      <td>0.155691</td>\n",
              "      <td>0.292722</td>\n",
              "      <td>0.125766</td>\n",
              "      <td>0.214509</td>\n",
              "      <td>0.123412</td>\n",
              "      <td>0.153183</td>\n",
              "      <td>1.000000</td>\n",
              "    </tr>\n",
              "  </tbody>\n",
              "</table>\n",
              "</div>"
            ],
            "text/plain": [
              "                              Age group  ...  Symptom, other\n",
              "Age group                      1.000000  ...       -0.012151\n",
              "Asymptomatic                  -0.028966  ...        0.270604\n",
              "Onset year of symptoms         0.040003  ...        0.175403\n",
              "Symptom, cough                -0.039977  ...        0.307639\n",
              "Symptom, fever                -0.031260  ...        0.270579\n",
              "Symptom, chills               -0.014765  ...        0.178631\n",
              "Symptom, sore throat           0.008941  ...        0.253166\n",
              "Symptom, runny nose            0.011306  ...        0.189815\n",
              "Symptom, shortness of breath  -0.046471  ...        0.200464\n",
              "Symptom, nausea               -0.018517  ...        0.155691\n",
              "Symptom, headache              0.012026  ...        0.292722\n",
              "Symptom, weakness             -0.027325  ...        0.125766\n",
              "Symptom, pain                 -0.013472  ...        0.214509\n",
              "Symptom, irritability         -0.028546  ...        0.123412\n",
              "Symptom, diarrhea             -0.027239  ...        0.153183\n",
              "Symptom, other                -0.012151  ...        1.000000\n",
              "\n",
              "[16 rows x 16 columns]"
            ]
          },
          "metadata": {
            "tags": []
          },
          "execution_count": 51
        }
      ]
    },
    {
      "cell_type": "code",
      "metadata": {
        "colab": {
          "base_uri": "https://localhost:8080/",
          "height": 590
        },
        "id": "nMT4oJyY5lEy",
        "outputId": "20a1910b-1ba9-4522-83a0-0de3b40454ad"
      },
      "source": [
        "import matplotlib.pyplot as plt\r\n",
        "plt.figure(figsize=(7,7))\r\n",
        "sns.heatmap(dataFrame.corr(),annot=False,fmt='.0%')"
      ],
      "execution_count": null,
      "outputs": [
        {
          "output_type": "execute_result",
          "data": {
            "text/plain": [
              "<matplotlib.axes._subplots.AxesSubplot at 0x7f067b2bca90>"
            ]
          },
          "metadata": {
            "tags": []
          },
          "execution_count": 57
        },
        {
          "output_type": "display_data",
          "data": {
            "image/png": "[encoded data removed]",
            "text/plain": [
              "<Figure size 504x504 with 2 Axes>"
            ]
          },
          "metadata": {
            "tags": [],
            "needs_background": "light"
          }
        }
      ]
    },
    {
      "cell_type": "code",
      "metadata": {
        "id": "emcgcz8R8iNP"
      },
      "source": [
        "#Split the data into feature data and target data\r\n",
        "X = dataFrame.iloc[:, :-1].values\r\n",
        "Y=dataFrame.iloc[:, -1].values"
      ],
      "execution_count": null,
      "outputs": []
    },
    {
      "cell_type": "code",
      "metadata": {
        "id": "TLqYXo6V8vIR"
      },
      "source": [
        "#Split the data again, into 75% training data set and 25% testing data set\r\n",
        "from sklearn.model_selection import train_test_split\r\n",
        "X_train, X_test, Y_train, Y_test = train_test_split(X, Y, test_size = 0.25, random_state = 1)"
      ],
      "execution_count": null,
      "outputs": []
    },
    {
      "cell_type": "code",
      "metadata": {
        "id": "LpUFr01Y8td9"
      },
      "source": [
        "#Feature Scaling\r\n",
        "#Scale the values in the data to be values between 0 and 1 inclusive\r\n",
        "from sklearn.preprocessing import StandardScaler\r\n",
        "sc = StandardScaler()\r\n",
        "X_train = sc.fit_transform(X_train)\r\n",
        "X_test = sc.transform(X_test)"
      ],
      "execution_count": null,
      "outputs": []
    },
    {
      "cell_type": "code",
      "metadata": {
        "colab": {
          "base_uri": "https://localhost:8080/",
          "height": 370
        },
        "id": "8m-YhFOL9yTO",
        "outputId": "931b6c60-ae03-4c39-937b-3f38c8e179ad"
      },
      "source": [
        "# use Random Forest Classifier\r\n",
        "from sklearn.ensemble import RandomForestClassifier\r\n",
        "forest = RandomForestClassifier(n_estimators = 10, criterion = 'entropy', random_state = 1)\r\n",
        "forest.fit(X_train, Y_train)"
      ],
      "execution_count": null,
      "outputs": [
        {
          "output_type": "error",
          "ename": "ValueError",
          "evalue": "ignored",
          "traceback": [
            "\u001b[0;31m---------------------------------------------------------------------------\u001b[0m",
            "\u001b[0;31mValueError\u001b[0m                                Traceback (most recent call last)",
            "\u001b[0;32m<ipython-input-81-f1bb2d904595>\u001b[0m in \u001b[0;36m<module>\u001b[0;34m()\u001b[0m\n\u001b[1;32m      2\u001b[0m \u001b[0;32mfrom\u001b[0m \u001b[0msklearn\u001b[0m\u001b[0;34m.\u001b[0m\u001b[0mensemble\u001b[0m \u001b[0;32mimport\u001b[0m \u001b[0mRandomForestClassifier\u001b[0m\u001b[0;34m\u001b[0m\u001b[0;34m\u001b[0m\u001b[0m\n\u001b[1;32m      3\u001b[0m \u001b[0mforest\u001b[0m \u001b[0;34m=\u001b[0m \u001b[0mRandomForestClassifier\u001b[0m\u001b[0;34m(\u001b[0m\u001b[0mn_estimators\u001b[0m \u001b[0;34m=\u001b[0m \u001b[0;36m10\u001b[0m\u001b[0;34m,\u001b[0m \u001b[0mcriterion\u001b[0m \u001b[0;34m=\u001b[0m \u001b[0;34m'entropy'\u001b[0m\u001b[0;34m,\u001b[0m \u001b[0mrandom_state\u001b[0m \u001b[0;34m=\u001b[0m \u001b[0;36m1\u001b[0m\u001b[0;34m)\u001b[0m\u001b[0;34m\u001b[0m\u001b[0;34m\u001b[0m\u001b[0m\n\u001b[0;32m----> 4\u001b[0;31m \u001b[0mforest\u001b[0m\u001b[0;34m.\u001b[0m\u001b[0mfit\u001b[0m\u001b[0;34m(\u001b[0m\u001b[0mX_train\u001b[0m\u001b[0;34m,\u001b[0m \u001b[0mY_train\u001b[0m\u001b[0;34m)\u001b[0m\u001b[0;34m\u001b[0m\u001b[0;34m\u001b[0m\u001b[0m\n\u001b[0m",
            "\u001b[0;32m/usr/local/lib/python3.6/dist-packages/sklearn/ensemble/_forest.py\u001b[0m in \u001b[0;36mfit\u001b[0;34m(self, X, y, sample_weight)\u001b[0m\n\u001b[1;32m    294\u001b[0m         \u001b[0;31m# Validate or convert input data\u001b[0m\u001b[0;34m\u001b[0m\u001b[0;34m\u001b[0m\u001b[0;34m\u001b[0m\u001b[0m\n\u001b[1;32m    295\u001b[0m         \u001b[0mX\u001b[0m \u001b[0;34m=\u001b[0m \u001b[0mcheck_array\u001b[0m\u001b[0;34m(\u001b[0m\u001b[0mX\u001b[0m\u001b[0;34m,\u001b[0m \u001b[0maccept_sparse\u001b[0m\u001b[0;34m=\u001b[0m\u001b[0;34m\"csc\"\u001b[0m\u001b[0;34m,\u001b[0m \u001b[0mdtype\u001b[0m\u001b[0;34m=\u001b[0m\u001b[0mDTYPE\u001b[0m\u001b[0;34m)\u001b[0m\u001b[0;34m\u001b[0m\u001b[0;34m\u001b[0m\u001b[0m\n\u001b[0;32m--> 296\u001b[0;31m         \u001b[0my\u001b[0m \u001b[0;34m=\u001b[0m \u001b[0mcheck_array\u001b[0m\u001b[0;34m(\u001b[0m\u001b[0my\u001b[0m\u001b[0;34m,\u001b[0m \u001b[0maccept_sparse\u001b[0m\u001b[0;34m=\u001b[0m\u001b[0;34m'csc'\u001b[0m\u001b[0;34m,\u001b[0m \u001b[0mensure_2d\u001b[0m\u001b[0;34m=\u001b[0m\u001b[0;32mFalse\u001b[0m\u001b[0;34m,\u001b[0m \u001b[0mdtype\u001b[0m\u001b[0;34m=\u001b[0m\u001b[0;32mNone\u001b[0m\u001b[0;34m)\u001b[0m\u001b[0;34m\u001b[0m\u001b[0;34m\u001b[0m\u001b[0m\n\u001b[0m\u001b[1;32m    297\u001b[0m         \u001b[0;32mif\u001b[0m \u001b[0msample_weight\u001b[0m \u001b[0;32mis\u001b[0m \u001b[0;32mnot\u001b[0m \u001b[0;32mNone\u001b[0m\u001b[0;34m:\u001b[0m\u001b[0;34m\u001b[0m\u001b[0;34m\u001b[0m\u001b[0m\n\u001b[1;32m    298\u001b[0m             \u001b[0msample_weight\u001b[0m \u001b[0;34m=\u001b[0m \u001b[0m_check_sample_weight\u001b[0m\u001b[0;34m(\u001b[0m\u001b[0msample_weight\u001b[0m\u001b[0;34m,\u001b[0m \u001b[0mX\u001b[0m\u001b[0;34m)\u001b[0m\u001b[0;34m\u001b[0m\u001b[0;34m\u001b[0m\u001b[0m\n",
            "\u001b[0;32m/usr/local/lib/python3.6/dist-packages/sklearn/utils/validation.py\u001b[0m in \u001b[0;36mcheck_array\u001b[0;34m(array, accept_sparse, accept_large_sparse, dtype, order, copy, force_all_finite, ensure_2d, allow_nd, ensure_min_samples, ensure_min_features, warn_on_dtype, estimator)\u001b[0m\n\u001b[1;32m    576\u001b[0m         \u001b[0;32mif\u001b[0m \u001b[0mforce_all_finite\u001b[0m\u001b[0;34m:\u001b[0m\u001b[0;34m\u001b[0m\u001b[0;34m\u001b[0m\u001b[0m\n\u001b[1;32m    577\u001b[0m             _assert_all_finite(array,\n\u001b[0;32m--> 578\u001b[0;31m                                allow_nan=force_all_finite == 'allow-nan')\n\u001b[0m\u001b[1;32m    579\u001b[0m \u001b[0;34m\u001b[0m\u001b[0m\n\u001b[1;32m    580\u001b[0m     \u001b[0;32mif\u001b[0m \u001b[0mensure_min_samples\u001b[0m \u001b[0;34m>\u001b[0m \u001b[0;36m0\u001b[0m\u001b[0;34m:\u001b[0m\u001b[0;34m\u001b[0m\u001b[0;34m\u001b[0m\u001b[0m\n",
            "\u001b[0;32m/usr/local/lib/python3.6/dist-packages/sklearn/utils/validation.py\u001b[0m in \u001b[0;36m_assert_all_finite\u001b[0;34m(X, allow_nan, msg_dtype)\u001b[0m\n\u001b[1;32m     63\u001b[0m     \u001b[0;32melif\u001b[0m \u001b[0mX\u001b[0m\u001b[0;34m.\u001b[0m\u001b[0mdtype\u001b[0m \u001b[0;34m==\u001b[0m \u001b[0mnp\u001b[0m\u001b[0;34m.\u001b[0m\u001b[0mdtype\u001b[0m\u001b[0;34m(\u001b[0m\u001b[0;34m'object'\u001b[0m\u001b[0;34m)\u001b[0m \u001b[0;32mand\u001b[0m \u001b[0;32mnot\u001b[0m \u001b[0mallow_nan\u001b[0m\u001b[0;34m:\u001b[0m\u001b[0;34m\u001b[0m\u001b[0;34m\u001b[0m\u001b[0m\n\u001b[1;32m     64\u001b[0m         \u001b[0;32mif\u001b[0m \u001b[0m_object_dtype_isnan\u001b[0m\u001b[0;34m(\u001b[0m\u001b[0mX\u001b[0m\u001b[0;34m)\u001b[0m\u001b[0;34m.\u001b[0m\u001b[0many\u001b[0m\u001b[0;34m(\u001b[0m\u001b[0;34m)\u001b[0m\u001b[0;34m:\u001b[0m\u001b[0;34m\u001b[0m\u001b[0;34m\u001b[0m\u001b[0m\n\u001b[0;32m---> 65\u001b[0;31m             \u001b[0;32mraise\u001b[0m \u001b[0mValueError\u001b[0m\u001b[0;34m(\u001b[0m\u001b[0;34m\"Input contains NaN\"\u001b[0m\u001b[0;34m)\u001b[0m\u001b[0;34m\u001b[0m\u001b[0;34m\u001b[0m\u001b[0m\n\u001b[0m\u001b[1;32m     66\u001b[0m \u001b[0;34m\u001b[0m\u001b[0m\n\u001b[1;32m     67\u001b[0m \u001b[0;34m\u001b[0m\u001b[0m\n",
            "\u001b[0;31mValueError\u001b[0m: Input contains NaN"
          ]
        }
      ]
    }
  ]
}